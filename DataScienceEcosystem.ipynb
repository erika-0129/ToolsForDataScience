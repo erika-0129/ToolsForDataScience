{
 "cells": [
  {
   "cell_type": "markdown",
   "id": "ab39de9b-d0bc-4903-b562-e50dd02ac304",
   "metadata": {},
   "source": [
    "# Data Science Tools and Ecosystem"
   ]
  },
  {
   "cell_type": "markdown",
   "id": "82bc7802-e483-430b-b62f-3855ee1d3ea2",
   "metadata": {},
   "source": [
    "### In this notebook, Data Science Tools and Ecosystem are summarized."
   ]
  },
  {
   "cell_type": "markdown",
   "id": "335bd530-cf34-4b3b-a4fc-adc8098a501c",
   "metadata": {},
   "source": [
    "#### **Objectives:**\n",
    "- List popular languages for data science\n",
    "- Create a table\n",
    "- Display arithmetic expressions"
   ]
  },
  {
   "cell_type": "markdown",
   "id": "216538a4-ce8b-4d8f-a8d3-54e5a295b79c",
   "metadata": {},
   "source": [
    "#### Some of the popular languages that Data Scientists use are:\n",
    "1. Python\n",
    "2. R\n",
    "3. SQL"
   ]
  },
  {
   "cell_type": "markdown",
   "id": "ee87acc7-fdd9-4a24-ae73-91578914b81c",
   "metadata": {},
   "source": [
    "#### Some of the commonly used libraries used by Data Scientists include: \n",
    "1. Pandas\n",
    "2. NumPy\n",
    "3. MatPlotLib"
   ]
  },
  {
   "cell_type": "markdown",
   "id": "4c144c94-c46d-4a07-9c8d-3959d0fdfa3a",
   "metadata": {},
   "source": [
    "## Markdown table\n",
    "| Data Science Tools |\n",
    "| -------------------|\n",
    "|R Studio|\n",
    "|Anaconda|\n",
    "|VS Code|"
   ]
  },
  {
   "cell_type": "markdown",
   "id": "f497b6c4-edf9-4126-9f5f-75f84be90da5",
   "metadata": {},
   "source": [
    "### Below are a few examples of evaluating arithmetic expressions in Python"
   ]
  },
  {
   "cell_type": "code",
   "execution_count": 1,
   "id": "d3ff6de5-9c1c-417f-8e4a-0d5f23fc3bd0",
   "metadata": {},
   "outputs": [
    {
     "data": {
      "text/plain": [
       "17"
      ]
     },
     "execution_count": 1,
     "metadata": {},
     "output_type": "execute_result"
    }
   ],
   "source": [
    "# This is a simple arithmetic expression to multiply then add integers.\n",
    "(3*4)+5"
   ]
  },
  {
   "cell_type": "code",
   "execution_count": 2,
   "id": "f987b6f7-f405-4ba1-b63c-114bf0049d2b",
   "metadata": {},
   "outputs": [
    {
     "data": {
      "text/plain": [
       "3.3333333333333335"
      ]
     },
     "execution_count": 2,
     "metadata": {},
     "output_type": "execute_result"
    }
   ],
   "source": [
    "# This will convert 200 minutes to hours by dividing by 60\n",
    "200/60"
   ]
  },
  {
   "cell_type": "markdown",
   "id": "ac4eca85-f528-445f-9eb8-5d5fd892a691",
   "metadata": {},
   "source": [
    "## Author: \n",
    "Erika Avila"
   ]
  }
 ],
 "metadata": {
  "kernelspec": {
   "display_name": "Python 3 (ipykernel)",
   "language": "python",
   "name": "python3"
  },
  "language_info": {
   "codemirror_mode": {
    "name": "ipython",
    "version": 3
   },
   "file_extension": ".py",
   "mimetype": "text/x-python",
   "name": "python",
   "nbconvert_exporter": "python",
   "pygments_lexer": "ipython3",
   "version": "3.11.9"
  }
 },
 "nbformat": 4,
 "nbformat_minor": 5
}
